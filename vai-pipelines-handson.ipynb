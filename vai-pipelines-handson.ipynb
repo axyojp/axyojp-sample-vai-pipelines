{
 "cells": [
  {
   "cell_type": "markdown",
   "id": "a6807967-d798-49a0-876d-c12eae84eec6",
   "metadata": {},
   "source": [
    "# Vertex AI Pipelines Handson\n",
    "- このハンズオンでは Vertex AI Pipelines で XGBoost モデルを構築するパイプラインを実行します。\n",
    "- 主に Continuous Training を意識したパイプラインになっています。\n",
    "- XGBoost は pre-build コンテナが利用できるので、そちらを利用します。\n",
    "- モデルトレーニングの評価指標をベースに分岐を行います。\n",
    "- 評価指標が目標を達成している場合は Vertex AI へのモデルの登録を行います。"
   ]
  },
  {
   "cell_type": "markdown",
   "id": "f447716d-57b9-46b4-abee-d3ff31038e2a",
   "metadata": {
    "tags": []
   },
   "source": [
    "## パッケージのインストール"
   ]
  },
  {
   "cell_type": "code",
   "execution_count": null,
   "id": "adc7cad0-06db-4948-b11f-4f703758f31d",
   "metadata": {
    "tags": []
   },
   "outputs": [],
   "source": [
    "! python3 -c \"import kfp; print('KFP SDK version: {}'.format(kfp.__version__))\"\n",
    "! pip3 freeze | grep aiplatform"
   ]
  },
  {
   "cell_type": "code",
   "execution_count": null,
   "id": "d192b7e1-a18c-4c9b-8a7b-a17667d262bf",
   "metadata": {
    "tags": []
   },
   "outputs": [],
   "source": [
    "# Workbench Instances などを利用している場合など、必要に応じて実施する。\n",
    "# uninstall については、バグ回避のために入れている。\n",
    "\n",
    "\n",
    "# !pip uninstall -y protobuf python3-protobuf\n",
    "# !pip install --no-cache-dir --upgrade \"kfp>2\" \\\n",
    "#                                         google-cloud-aiplatform"
   ]
  },
  {
   "cell_type": "code",
   "execution_count": null,
   "id": "d79dfb5d-e612-4660-aa75-7c5802e664a4",
   "metadata": {
    "tags": []
   },
   "outputs": [],
   "source": [
    "!pip3 install -U google-cloud-pipeline-components"
   ]
  },
  {
   "cell_type": "markdown",
   "id": "3dcf5a4c-e7e0-4dce-ac2a-176c614d9a78",
   "metadata": {},
   "source": [
    "## 環境変数の設定"
   ]
  },
  {
   "cell_type": "code",
   "execution_count": null,
   "id": "9dc216e0-db81-47e9-a1bf-b7d4b9af9ab4",
   "metadata": {
    "tags": []
   },
   "outputs": [],
   "source": [
    "shell_output = !gcloud config get project\n",
    "PROJECT_ID = shell_output[0]\n",
    "PROJECT_ID"
   ]
  },
  {
   "cell_type": "code",
   "execution_count": null,
   "id": "9cca049f-0556-4ad9-9988-04b11651e483",
   "metadata": {
    "tags": []
   },
   "outputs": [],
   "source": [
    "REGION = \"us-central1\"\n",
    "BQ_REGION = REGION.split(\"-\")[0].upper()"
   ]
  },
  {
   "cell_type": "code",
   "execution_count": null,
   "id": "c1786d9d-4cfe-49b7-9297-92e436efe22d",
   "metadata": {
    "tags": []
   },
   "outputs": [],
   "source": [
    "BUCKET_URI = f\"gs://your-bucket-name-{PROJECT_ID}-unique\"  # @param {type:\"string\"}"
   ]
  },
  {
   "cell_type": "code",
   "execution_count": null,
   "id": "082ab395-e6cc-457c-b22a-bfac555653e1",
   "metadata": {
    "tags": []
   },
   "outputs": [],
   "source": [
    "# Workbench 等を利用する時に特別な設定を行ったいない場合は、Default の GCE のサービスアカウントが利用される。\n",
    "SERVICE_ACCOUNT = \"\"  # @param {type:\"string\"}"
   ]
  },
  {
   "cell_type": "code",
   "execution_count": null,
   "id": "6ce684ac-f20d-4902-985d-19a73192d36a",
   "metadata": {
    "tags": []
   },
   "outputs": [],
   "source": [
    "import sys\n",
    "\n",
    "IS_COLAB = \"google.colab\" in sys.modules\n",
    "if (\n",
    "    SERVICE_ACCOUNT == \"\"\n",
    "    or SERVICE_ACCOUNT is None\n",
    "    or SERVICE_ACCOUNT == \"[your-service-account]\"\n",
    "):\n",
    "    # Get your service account from gcloud\n",
    "    if not IS_COLAB:\n",
    "        shell_output = !gcloud auth list 2>/dev/null\n",
    "        SERVICE_ACCOUNT = shell_output[2].replace(\"*\", \"\").strip()\n",
    "\n",
    "    else:  # IS_COLAB:\n",
    "        shell_output = ! gcloud projects describe  $PROJECT_ID\n",
    "        project_number = shell_output[-1].split(\":\")[1].strip().replace(\"'\", \"\")\n",
    "        SERVICE_ACCOUNT = f\"{project_number}-compute@developer.gserviceaccount.com\"\n",
    "\n",
    "    print(\"Service Account:\", SERVICE_ACCOUNT)"
   ]
  },
  {
   "cell_type": "code",
   "execution_count": null,
   "id": "1746df87-ad24-4071-b53e-e2c3671e1272",
   "metadata": {
    "tags": []
   },
   "outputs": [],
   "source": [
    "PATH = %env PATH\n",
    "%env PATH={PATH}:/home/jupyter/.local/bin\n",
    "\n",
    "\n",
    "DATASET_ID = \"census\"  # The Data Set ID where the view sits\n",
    "VIEW_NAME = \"census_data\"  # BigQuery view you create for input data\n",
    "\n",
    "KFP_ENDPOINT = (\n",
    "    \"https://720c5bc00c3d6089-dot-us-central1.pipelines.googleusercontent.com/\"\n",
    ")\n",
    "\n",
    "PIPELINE_ROOT = f\"{BUCKET_URI}/vai_pipelines_handson_pipeline\"  # This is where all pipeline artifacts are sent. You'll need to ensure the bucket is created ahead of time\n",
    "PIPELINE_ROOT\n",
    "print(f\"PIPELINE_ROOT: {PIPELINE_ROOT}\")"
   ]
  },
  {
   "cell_type": "markdown",
   "id": "bbcc8190-3a12-4c14-b47a-e8e1ba58c51c",
   "metadata": {
    "tags": []
   },
   "source": [
    "## 環境構築（GCS の作成など）"
   ]
  },
  {
   "cell_type": "code",
   "execution_count": null,
   "id": "a4d508fc-ed0f-47b5-869c-b47e816da3c3",
   "metadata": {
    "tags": []
   },
   "outputs": [],
   "source": [
    "! gsutil mb -l $REGION -p $PROJECT_ID $BUCKET_URI"
   ]
  },
  {
   "cell_type": "code",
   "execution_count": null,
   "id": "021ffcc9-806f-4017-9208-f173b12bc9d2",
   "metadata": {
    "tags": []
   },
   "outputs": [],
   "source": [
    "! gsutil iam ch serviceAccount:{SERVICE_ACCOUNT}:roles/storage.objectCreator $BUCKET_URI\n",
    "\n",
    "! gsutil iam ch serviceAccount:{SERVICE_ACCOUNT}:roles/storage.objectViewer $BUCKET_URI"
   ]
  },
  {
   "cell_type": "markdown",
   "id": "bb91330b-9e8f-4c35-ae41-29306c12e240",
   "metadata": {
    "tags": []
   },
   "source": [
    "## BigQuery の環境構築（トレーニングデータの準備）"
   ]
  },
  {
   "cell_type": "code",
   "execution_count": null,
   "id": "49ab4878-d3c6-43ef-ab34-a9618c0e2a49",
   "metadata": {},
   "outputs": [],
   "source": [
    "# Create a BQ Dataset in the project.\n",
    "!bq mk --location=$BQ_REGION --dataset $PROJECT_ID:$DATASET_ID"
   ]
  },
  {
   "cell_type": "markdown",
   "id": "9d936cce-b4b3-4787-9652-ba7000072e0e",
   "metadata": {
    "tags": []
   },
   "source": [
    "## ライブラリのインポート"
   ]
  },
  {
   "cell_type": "code",
   "execution_count": null,
   "id": "c28d351a-18de-48fd-a49c-9d3b5430144f",
   "metadata": {
    "tags": []
   },
   "outputs": [],
   "source": [
    "import google.cloud.aiplatform as aiplatform\n",
    "import kfp\n",
    "from kfp import compiler, dsl\n",
    "from kfp.dsl import Artifact, Dataset, Input, Metrics, Model, Output, component\n",
    "from google_cloud_pipeline_components.v1.vertex_notification_email import VertexNotificationEmailOp\n",
    "\n",
    "from typing import NamedTuple"
   ]
  },
  {
   "cell_type": "markdown",
   "id": "295f585c-697f-41f5-9fa8-9c979509fdb3",
   "metadata": {},
   "source": [
    "## Vertex AI の初期化"
   ]
  },
  {
   "cell_type": "code",
   "execution_count": null,
   "id": "553be454-af3c-4859-8537-3149dacfac0c",
   "metadata": {
    "tags": []
   },
   "outputs": [],
   "source": [
    "aiplatform.init(project=PROJECT_ID, staging_bucket=BUCKET_URI)"
   ]
  },
  {
   "cell_type": "markdown",
   "id": "07914ed8-6fba-486b-bf4e-cab872893360",
   "metadata": {
    "tags": []
   },
   "source": [
    "## パイプラインコンポーネントの定義"
   ]
  },
  {
   "cell_type": "markdown",
   "id": "66621be3-ff53-4c65-8b6d-188c3b383654",
   "metadata": {},
   "source": [
    "### BigQuery の View を作成するコンポーネント"
   ]
  },
  {
   "cell_type": "code",
   "execution_count": null,
   "id": "4a807b67-b7ad-44ca-b80e-060eb0988057",
   "metadata": {
    "tags": []
   },
   "outputs": [],
   "source": [
    "@component(\n",
    "    packages_to_install=[\"google-cloud-bigquery==3.10.0\"],\n",
    ")\n",
    "def create_census_view(\n",
    "    project_id: str,\n",
    "    dataset_id: str,\n",
    "    view_name: str,\n",
    "):\n",
    "    from google.cloud import bigquery\n",
    "\n",
    "    client = bigquery.Client(project=project_id)\n",
    "\n",
    "    create_or_replace_view = \"\"\"\n",
    "        CREATE OR REPLACE VIEW\n",
    "        `{dataset_id}`.`{view_name}` AS\n",
    "        SELECT\n",
    "          age,\n",
    "          workclass,\n",
    "          education,\n",
    "          education_num,\n",
    "          marital_status,\n",
    "          occupation,\n",
    "          relationship,\n",
    "          race,\n",
    "          sex,\n",
    "          capital_gain,\n",
    "          capital_loss,\n",
    "          hours_per_week,\n",
    "          native_country,\n",
    "          income_bracket,\n",
    "        FROM\n",
    "          `bigquery-public-data.ml_datasets.census_adult_income`\n",
    "    \"\"\".format(\n",
    "        dataset_id=dataset_id, view_name=view_name\n",
    "    )\n",
    "\n",
    "    job_config = bigquery.QueryJobConfig()\n",
    "    query_job = client.query(query=create_or_replace_view, job_config=job_config)\n",
    "    query_job.result()"
   ]
  },
  {
   "cell_type": "markdown",
   "id": "2ddb80b7-ab0b-42f4-9c3f-740c6a1c06af",
   "metadata": {
    "tags": []
   },
   "source": [
    "### XGBoost 用にトレーニングデータを csv 出力するコンポーネント"
   ]
  },
  {
   "cell_type": "code",
   "execution_count": null,
   "id": "b191d78e-1656-459a-8e5f-5831dc12b5fe",
   "metadata": {
    "tags": []
   },
   "outputs": [],
   "source": [
    "@component(\n",
    "    packages_to_install=[\"google-cloud-bigquery[pandas]==3.10.0\"],\n",
    ")\n",
    "def export_dataset(\n",
    "    project_id: str,\n",
    "    dataset_id: str,\n",
    "    view_name: str,\n",
    "    dataset: Output[Dataset],\n",
    "):\n",
    "    from google.cloud import bigquery\n",
    "\n",
    "    client = bigquery.Client(project=project_id)\n",
    "\n",
    "    table_name = f\"{project_id}.{dataset_id}.{view_name}\"\n",
    "    query = \"\"\"\n",
    "    SELECT\n",
    "      *\n",
    "    FROM\n",
    "      `{table_name}`\n",
    "    \"\"\".format(\n",
    "        table_name=table_name\n",
    "    )\n",
    "\n",
    "    job_config = bigquery.QueryJobConfig()\n",
    "    query_job = client.query(query=query, job_config=job_config)\n",
    "    df = query_job.result().to_dataframe()\n",
    "    df.to_csv(dataset.path, index=False)"
   ]
  },
  {
   "cell_type": "markdown",
   "id": "50bf37b4-83de-4761-9fbb-f48538d0c301",
   "metadata": {
    "tags": []
   },
   "source": [
    "### XGBoost のトレーニングを行うコンポーネント（ハイパーパラメータ探索込み）"
   ]
  },
  {
   "cell_type": "code",
   "execution_count": null,
   "id": "0bedc368-4c4a-424f-9693-8bfd6aed3a71",
   "metadata": {
    "tags": []
   },
   "outputs": [],
   "source": [
    "@component(\n",
    "    packages_to_install=[\n",
    "        \"xgboost==1.6.2\",\n",
    "        \"pandas==1.3.5\",\n",
    "        \"scikit-learn==1.0.2\",\n",
    "    ],\n",
    ")\n",
    "def xgboost_training(\n",
    "    dataset: Input[Dataset],\n",
    "    model: Output[Model],\n",
    "    metrics: Output[Metrics],\n",
    ") -> NamedTuple(\"Outputs\", [(\"auc\", float)]) :\n",
    "    import os\n",
    "\n",
    "    import pandas as pd\n",
    "    import xgboost as xgb\n",
    "    from sklearn.metrics import (accuracy_score, precision_recall_curve,\n",
    "                                 roc_auc_score)\n",
    "    from sklearn.model_selection import (RandomizedSearchCV, StratifiedKFold,\n",
    "                                         train_test_split)\n",
    "    from sklearn.preprocessing import LabelEncoder\n",
    "\n",
    "    # Load the training census dataset\n",
    "    with open(dataset.path, \"r\") as train_data:\n",
    "        raw_data = pd.read_csv(train_data)\n",
    "\n",
    "    CATEGORICAL_COLUMNS = (\n",
    "        \"workclass\",\n",
    "        \"education\",\n",
    "        \"marital_status\",\n",
    "        \"occupation\",\n",
    "        \"relationship\",\n",
    "        \"race\",\n",
    "        \"sex\",\n",
    "        \"native_country\",\n",
    "    )\n",
    "    LABEL_COLUMN = \"income_bracket\"\n",
    "    POSITIVE_VALUE = \" >50K\"\n",
    "\n",
    "    # Convert data in categorical columns to numerical values\n",
    "    encoders = {col: LabelEncoder() for col in CATEGORICAL_COLUMNS}\n",
    "    for col in CATEGORICAL_COLUMNS:\n",
    "        raw_data[col] = encoders[col].fit_transform(raw_data[col])\n",
    "\n",
    "    X = raw_data.drop([LABEL_COLUMN], axis=1).values\n",
    "    y = raw_data[LABEL_COLUMN] == POSITIVE_VALUE\n",
    "\n",
    "    X_train, X_test, y_train, y_test = train_test_split(X, y)\n",
    "    _ = xgb.DMatrix(X_train, label=y_train)\n",
    "    _ = xgb.DMatrix(X_test, label=y_test)\n",
    "\n",
    "    params = {\n",
    "        \"reg_lambda\": [0, 1],\n",
    "        \"gamma\": [1, 1.5, 2, 2.5, 3],\n",
    "        \"max_depth\": [2, 3, 4, 5, 10, 20],\n",
    "        \"learning_rate\": [0.1, 0.01],\n",
    "    }\n",
    "\n",
    "    xgb_model = xgb.XGBClassifier(\n",
    "        n_estimators=50,\n",
    "        objective=\"binary:hinge\",\n",
    "        silent=True,\n",
    "        nthread=1,\n",
    "        eval_metric=\"auc\",\n",
    "    )\n",
    "\n",
    "    folds = 5\n",
    "    param_comb = 20\n",
    "\n",
    "    skf = StratifiedKFold(n_splits=folds, shuffle=True, random_state=42)\n",
    "\n",
    "    random_search = RandomizedSearchCV(\n",
    "        xgb_model,\n",
    "        param_distributions=params,\n",
    "        n_iter=param_comb,\n",
    "        scoring=\"precision\",\n",
    "        n_jobs=4,\n",
    "        cv=skf.split(X_train, y_train),\n",
    "        verbose=4,\n",
    "        random_state=42,\n",
    "    )\n",
    "\n",
    "    random_search.fit(X_train, y_train)\n",
    "    xgb_model_best = random_search.best_estimator_\n",
    "    predictions = xgb_model_best.predict(X_test)\n",
    "    score = accuracy_score(y_test, predictions)\n",
    "    auc = roc_auc_score(y_test, predictions)\n",
    "    _ = precision_recall_curve(y_test, predictions)\n",
    "\n",
    "    metrics.log_metric(\"accuracy\", (score * 100.0))\n",
    "    metrics.log_metric(\"framework\", \"xgboost\")\n",
    "    metrics.log_metric(\"dataset_size\", len(raw_data))\n",
    "    metrics.log_metric(\"AUC\", auc)\n",
    "    \n",
    "\n",
    "    # Export the model to a file\n",
    "    os.makedirs(model.path, exist_ok=True)\n",
    "    xgb_model_best.save_model(os.path.join(model.path, \"model.bst\")) \n",
    "    \n",
    "    return (auc,)"
   ]
  },
  {
   "cell_type": "markdown",
   "id": "0ce7254f-01e9-4ff7-8d1f-79d705577753",
   "metadata": {
    "tags": []
   },
   "source": [
    "### トレーニング済みの XGBoost モデルをデプロイするコンポーネント"
   ]
  },
  {
   "cell_type": "code",
   "execution_count": null,
   "id": "b0781b65-d523-43b0-95c7-e386ac182dbb",
   "metadata": {
    "tags": []
   },
   "outputs": [],
   "source": [
    "@component(\n",
    "    packages_to_install=[\"google-cloud-aiplatform==1.25.0\"],\n",
    ")\n",
    "def deploy_xgboost_model(\n",
    "    model: Input[Model],\n",
    "    project_id: str,\n",
    "    vertex_endpoint: Output[Artifact],\n",
    "    vertex_model: Output[Model],\n",
    "):\n",
    "    from google.cloud import aiplatform\n",
    "\n",
    "    aiplatform.init(project=project_id)\n",
    "\n",
    "    # 推論で利用できる Pre-Build イメージについてはこちらを参照。\n",
    "    # https://cloud.google.com/vertex-ai/docs/predictions/pre-built-containers\n",
    "    deployed_model = aiplatform.Model.upload(\n",
    "        display_name=\"vai-pipelines-handson-model\",\n",
    "        artifact_uri=model.uri,\n",
    "        serving_container_image_uri=\"us-docker.pkg.dev/vertex-ai/prediction/xgboost-cpu.1-7:latest\",\n",
    "    )\n",
    "    endpoint = deployed_model.deploy(machine_type=\"n1-standard-4\")\n",
    "\n",
    "    vertex_endpoint.uri = endpoint.resource_name\n",
    "    vertex_model.uri = deployed_model.resource_name"
   ]
  },
  {
   "cell_type": "markdown",
   "id": "1fc4f696-d691-4ac7-a3cb-760cf08071e1",
   "metadata": {},
   "source": [
    "## パイプラインの定義（定義したコンポーネントを利用）"
   ]
  },
  {
   "cell_type": "code",
   "execution_count": null,
   "id": "fde9ea86-7c2b-463d-aec6-b74ec27362cc",
   "metadata": {
    "tags": []
   },
   "outputs": [],
   "source": [
    "@component\n",
    "def print_message():\n",
    "    print(\"[W99999] We should not deploy the new model\")\n",
    "\n",
    "\n",
    "@dsl.pipeline(\n",
    "    name=\"vai-pipelines-handson\",\n",
    ")\n",
    "def pipeline():\n",
    "    create_input_view_task = create_census_view(\n",
    "        project_id=PROJECT_ID,\n",
    "        dataset_id=DATASET_ID,\n",
    "        view_name=VIEW_NAME,\n",
    "    )\n",
    "\n",
    "    export_dataset_task = (\n",
    "        export_dataset(\n",
    "            project_id=PROJECT_ID,\n",
    "            dataset_id=DATASET_ID,\n",
    "            view_name=VIEW_NAME,\n",
    "        )\n",
    "        .after(create_input_view_task)\n",
    "        .set_caching_options(False)\n",
    "    )\n",
    "\n",
    "    training_task = xgboost_training(\n",
    "        dataset=export_dataset_task.outputs[\"dataset\"],\n",
    "    )\n",
    "    print(training_task.outputs[\"metrics\"])\n",
    "    \n",
    "\n",
    "    with dsl.If(training_task.outputs[\"auc\"] > 0.7, name=\"Condition: AUC is OK\"):\n",
    "        _ = deploy_xgboost_model(\n",
    "            project_id=PROJECT_ID,\n",
    "            model=training_task.outputs[\"model\"],\n",
    "        )\n",
    "    with dsl.Else():\n",
    "        print_message()\n",
    "\n",
    "        "
   ]
  },
  {
   "cell_type": "markdown",
   "id": "6222bac1-1575-4d5d-960f-0e3fcf7406ff",
   "metadata": {
    "tags": []
   },
   "source": [
    "## パイプラインのコンパイル（YAML 生成）"
   ]
  },
  {
   "cell_type": "code",
   "execution_count": null,
   "id": "a5687684-70ae-4269-8512-9c75b2815e0d",
   "metadata": {
    "tags": []
   },
   "outputs": [],
   "source": [
    "compiler.Compiler().compile(pipeline_func=pipeline, package_path=\"pipeline.yaml\")"
   ]
  },
  {
   "cell_type": "markdown",
   "id": "fb349bdc-06b9-4d0e-a178-cecbf74f6b30",
   "metadata": {},
   "source": [
    "## パイプラインの実行"
   ]
  },
  {
   "cell_type": "code",
   "execution_count": null,
   "id": "d6ecdf2c-268f-4281-8aac-d7357579bfc1",
   "metadata": {
    "tags": []
   },
   "outputs": [],
   "source": [
    "job = aiplatform.PipelineJob(\n",
    "    display_name=\"vai-pipelines-handson\",\n",
    "    template_path=\"pipeline.yaml\",\n",
    "    pipeline_root=PIPELINE_ROOT,\n",
    ")\n",
    "\n",
    "job.run()"
   ]
  },
  {
   "cell_type": "code",
   "execution_count": null,
   "id": "a8f3de8a-b69e-4206-a059-77e8d90001da",
   "metadata": {},
   "outputs": [],
   "source": []
  },
  {
   "cell_type": "code",
   "execution_count": null,
   "id": "b72b1774-82ec-4e8c-8b3f-2c51914d16f1",
   "metadata": {},
   "outputs": [],
   "source": []
  }
 ],
 "metadata": {
  "environment": {
   "kernel": "conda-base-py",
   "name": "workbench-notebooks.m127",
   "type": "gcloud",
   "uri": "us-docker.pkg.dev/deeplearning-platform-release/gcr.io/workbench-notebooks:m127"
  },
  "kernelspec": {
   "display_name": "Python 3 (ipykernel) (Local)",
   "language": "python",
   "name": "conda-base-py"
  },
  "language_info": {
   "codemirror_mode": {
    "name": "ipython",
    "version": 3
   },
   "file_extension": ".py",
   "mimetype": "text/x-python",
   "name": "python",
   "nbconvert_exporter": "python",
   "pygments_lexer": "ipython3",
   "version": "3.10.16"
  }
 },
 "nbformat": 4,
 "nbformat_minor": 5
}

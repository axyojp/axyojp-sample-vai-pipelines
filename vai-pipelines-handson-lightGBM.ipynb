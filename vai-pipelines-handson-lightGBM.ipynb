{
 "cells": [
  {
   "cell_type": "markdown",
   "id": "a6807967-d798-49a0-876d-c12eae84eec6",
   "metadata": {},
   "source": [
    "# Vertex AI Pipelines Handson(LightGBM)\n",
    "- このハンズオンでは Vertex AI Pipelines で LightGBM モデルを実行するパイプラインを作成します。\n",
    "- 主に Continuous Training を意識したパイプラインになっています。\n",
    "- LightGBM は専用の pre-build container が存在しないため、Custom Container を利用して、モデルのサービングを行います。\n",
    "- モデルトレーニングの評価指標をベースに分岐を行います。\n",
    "- 評価指標が目標を達成している場合は Vertex AI へのモデルの登録とバッチ推論を行い、結果を BigQuery に格納します。"
   ]
  },
  {
   "cell_type": "markdown",
   "id": "f447716d-57b9-46b4-abee-d3ff31038e2a",
   "metadata": {
    "tags": []
   },
   "source": [
    "## パッケージのインストール"
   ]
  },
  {
   "cell_type": "code",
   "execution_count": null,
   "id": "adc7cad0-06db-4948-b11f-4f703758f31d",
   "metadata": {
    "tags": []
   },
   "outputs": [],
   "source": [
    "# 2025/02/12 時点では、Workbench で実行した場合にはこの辺がインストールされている。\n",
    "# KFP SDK version: 2.5.0\n",
    "# google-cloud-aiplatform==1.75.0\n",
    "# kfp==2.5.0\n",
    "# kfp-pipeline-spec==0.2.2\n",
    "# kfp-server-api==2.0.5\n",
    "\n",
    "! python3 -c \"import kfp; print('KFP SDK version: {}'.format(kfp.__version__))\"\n",
    "! pip3 freeze | grep -e aiplatform -e kfp"
   ]
  },
  {
   "cell_type": "code",
   "execution_count": null,
   "id": "d192b7e1-a18c-4c9b-8a7b-a17667d262bf",
   "metadata": {
    "tags": []
   },
   "outputs": [],
   "source": [
    "# Workbench Instances などを利用している場合など、必要に応じて実施する。\n",
    "# uninstall については、バグ回避のために入れている。\n",
    "\n",
    "\n",
    "# !pip uninstall -y protobuf python3-protobuf\n",
    "# !pip install --no-cache-dir --upgrade \"kfp>2\" \\\n",
    "#                                         google-cloud-aiplatform"
   ]
  },
  {
   "cell_type": "code",
   "execution_count": null,
   "id": "d79dfb5d-e612-4660-aa75-7c5802e664a4",
   "metadata": {
    "tags": []
   },
   "outputs": [],
   "source": [
    "# 2025/02/12 時点では google-cloud-pipeline-components==2.18.0 がインストールされる。\n",
    "\n",
    "!pip3 install -U google-cloud-pipeline-components\n",
    "!pip3 freeze | grep google-cloud-pipeline-components"
   ]
  },
  {
   "cell_type": "markdown",
   "id": "3dcf5a4c-e7e0-4dce-ac2a-176c614d9a78",
   "metadata": {},
   "source": [
    "## 環境変数の設定"
   ]
  },
  {
   "cell_type": "code",
   "execution_count": null,
   "id": "9dc216e0-db81-47e9-a1bf-b7d4b9af9ab4",
   "metadata": {
    "tags": []
   },
   "outputs": [],
   "source": [
    "shell_output = !gcloud config get project\n",
    "PROJECT_ID = shell_output[0]\n",
    "PROJECT_ID"
   ]
  },
  {
   "cell_type": "code",
   "execution_count": null,
   "id": "9cca049f-0556-4ad9-9988-04b11651e483",
   "metadata": {
    "tags": []
   },
   "outputs": [],
   "source": [
    "REGION = \"us-central1\"\n",
    "BQ_REGION = REGION.split(\"-\")[0].upper()"
   ]
  },
  {
   "cell_type": "code",
   "execution_count": null,
   "id": "c1786d9d-4cfe-49b7-9297-92e436efe22d",
   "metadata": {
    "tags": []
   },
   "outputs": [],
   "source": [
    "BUCKET_URI = f\"gs://your-bucket-name-{PROJECT_ID}-unique\"  # @param {type:\"string\"}"
   ]
  },
  {
   "cell_type": "code",
   "execution_count": null,
   "id": "082ab395-e6cc-457c-b22a-bfac555653e1",
   "metadata": {
    "tags": []
   },
   "outputs": [],
   "source": [
    "# Workbench 等を利用する時に特別な設定を行ったいない場合は、Default の GCE のサービスアカウントが利用される。\n",
    "SERVICE_ACCOUNT = \"\"  # @param {type:\"string\"}"
   ]
  },
  {
   "cell_type": "code",
   "execution_count": null,
   "id": "6ce684ac-f20d-4902-985d-19a73192d36a",
   "metadata": {
    "tags": []
   },
   "outputs": [],
   "source": [
    "import sys\n",
    "\n",
    "IS_COLAB = \"google.colab\" in sys.modules\n",
    "if (\n",
    "    SERVICE_ACCOUNT == \"\"\n",
    "    or SERVICE_ACCOUNT is None\n",
    "    or SERVICE_ACCOUNT == \"[your-service-account]\"\n",
    "):\n",
    "    # Get your service account from gcloud\n",
    "    if not IS_COLAB:\n",
    "        shell_output = !gcloud auth list 2>/dev/null\n",
    "        SERVICE_ACCOUNT = shell_output[2].replace(\"*\", \"\").strip()\n",
    "\n",
    "    else:  # IS_COLAB:\n",
    "        shell_output = ! gcloud projects describe  $PROJECT_ID\n",
    "        project_number = shell_output[-1].split(\":\")[1].strip().replace(\"'\", \"\")\n",
    "        SERVICE_ACCOUNT = f\"{project_number}-compute@developer.gserviceaccount.com\"\n",
    "\n",
    "    print(\"Service Account:\", SERVICE_ACCOUNT)"
   ]
  },
  {
   "cell_type": "code",
   "execution_count": null,
   "id": "1746df87-ad24-4071-b53e-e2c3671e1272",
   "metadata": {
    "tags": []
   },
   "outputs": [],
   "source": [
    "PATH = %env PATH\n",
    "%env PATH={PATH}:/home/jupyter/.local/bin\n",
    "date_string = !date '+%Y%m%d%H%M%S'\n",
    "YYYYMMDDHHmmSS = date_string[0]\n",
    "\n",
    "DATASET_ID = \"lightgbm\"  # The Data Set ID where the view sits\n",
    "TABLE_ID = \"lightgbm_train_data_raw\"\n",
    "VIEW_NAME = \"lightgbm_train_data\"  # BigQuery view you create for input data\n",
    "\n",
    "\n",
    "PIPELINE_ROOT = f\"{BUCKET_URI}/vai_pipelines_handson_pipeline_lightGBM_{YYYYMMDDHHmmSS}\"  # This is where all pipeline artifacts are sent. You'll need to ensure the bucket is created ahead of time\n",
    "PIPELINE_ROOT\n",
    "print(f\"PIPELINE_ROOT: {PIPELINE_ROOT}\")\n",
    "\n",
    "\n",
    "CONTAINER_IMAGE_URL=f\"us-central1-docker.pkg.dev/{PROJECT_ID}/hellocustomprediction/hellocustomprediction:latest\"\n",
    "print(CONTAINER_IMAGE_URL)"
   ]
  },
  {
   "cell_type": "markdown",
   "id": "bbcc8190-3a12-4c14-b47a-e8e1ba58c51c",
   "metadata": {
    "tags": []
   },
   "source": [
    "## 環境構築"
   ]
  },
  {
   "cell_type": "code",
   "execution_count": null,
   "id": "a81a7464-b3ad-436a-a811-4aa803448d27",
   "metadata": {},
   "outputs": [],
   "source": [
    "! gcloud services enable aiplatform.googleapis.com"
   ]
  },
  {
   "cell_type": "code",
   "execution_count": null,
   "id": "a4d508fc-ed0f-47b5-869c-b47e816da3c3",
   "metadata": {
    "tags": []
   },
   "outputs": [],
   "source": [
    "! gsutil mb -l $REGION -p $PROJECT_ID $BUCKET_URI"
   ]
  },
  {
   "cell_type": "code",
   "execution_count": null,
   "id": "021ffcc9-806f-4017-9208-f173b12bc9d2",
   "metadata": {
    "tags": []
   },
   "outputs": [],
   "source": [
    "! gsutil iam ch serviceAccount:{SERVICE_ACCOUNT}:roles/storage.objectCreator $BUCKET_URI\n",
    "! gsutil iam ch serviceAccount:{SERVICE_ACCOUNT}:roles/storage.objectViewer $BUCKET_URI"
   ]
  },
  {
   "cell_type": "markdown",
   "id": "bb91330b-9e8f-4c35-ae41-29306c12e240",
   "metadata": {
    "tags": []
   },
   "source": [
    "### LightGBM 公式からデータをダウンロードする\n",
    "通常は他システムからのファイル連携や API、ETL の処理でトレーニングデータを受け取る"
   ]
  },
  {
   "cell_type": "code",
   "execution_count": null,
   "id": "49ab4878-d3c6-43ef-ab34-a9618c0e2a49",
   "metadata": {},
   "outputs": [],
   "source": [
    "!git clone https://github.com/microsoft/LightGBM.git\n"
   ]
  },
  {
   "cell_type": "code",
   "execution_count": null,
   "id": "cb6df9f2-c864-4db7-ae79-a682fcc6f78d",
   "metadata": {
    "tags": []
   },
   "outputs": [],
   "source": [
    "input_filename = \"LightGBM/examples/regression/regression.train\"\n",
    "with open(input_filename, 'r') as f:\n",
    "    data = f.read()\n",
    "    data = data.replace('\\t', ',')\n",
    "    \n",
    "output_filename = \"LightGBM/examples/regression/regression_train.csv\"\n",
    "with open(output_filename, 'w') as f:\n",
    "    f.write(data)"
   ]
  },
  {
   "cell_type": "code",
   "execution_count": null,
   "id": "c03a529b-c6d4-4dfb-ad38-7268730d9b1f",
   "metadata": {
    "tags": []
   },
   "outputs": [],
   "source": [
    "!gsutil cp $output_filename $BUCKET_URI/regression_train.csv"
   ]
  },
  {
   "cell_type": "markdown",
   "id": "a8f2b14c-9d58-4fe0-abe2-9cbc89a9d939",
   "metadata": {},
   "source": [
    "### BQ に生データをロードする"
   ]
  },
  {
   "cell_type": "code",
   "execution_count": null,
   "id": "e22256b5-0bbf-4f4b-b7b6-6e4efd0927d4",
   "metadata": {
    "tags": []
   },
   "outputs": [],
   "source": [
    "# Create a BQ Dataset in the project.\n",
    "!bq mk --location=$BQ_REGION --dataset $PROJECT_ID:$DATASET_ID"
   ]
  },
  {
   "cell_type": "code",
   "execution_count": null,
   "id": "9da53447-d527-4ff8-bf46-e05f87b32df9",
   "metadata": {
    "tags": []
   },
   "outputs": [],
   "source": [
    "from google.cloud import bigquery"
   ]
  },
  {
   "cell_type": "code",
   "execution_count": null,
   "id": "7cdc5481-ef59-429c-a288-f005d2a6a71d",
   "metadata": {
    "tags": []
   },
   "outputs": [],
   "source": [
    "client = bigquery.Client(project=PROJECT_ID)\n",
    "\n",
    "# ジョブ構成を作成\n",
    "job_config = bigquery.LoadJobConfig(\n",
    "    source_format=bigquery.SourceFormat.CSV,\n",
    "    autodetect=True\n",
    ")\n",
    "job_config.source_format = bigquery.SourceFormat.CSV\n",
    "\n",
    "# ロードジョブを実行\n",
    "load_job = client.load_table_from_uri(\n",
    "    f\"{BUCKET_URI}/regression_train.csv\",\n",
    "    f\"{PROJECT_ID}.{DATASET_ID}.{TABLE_ID}\",\n",
    "    job_config=job_config\n",
    ")\n",
    "\n",
    "\n"
   ]
  },
  {
   "cell_type": "code",
   "execution_count": null,
   "id": "95fad02d-ad8c-47f9-9825-756601d275ed",
   "metadata": {
    "tags": []
   },
   "outputs": [],
   "source": [
    "# load_job.result()"
   ]
  },
  {
   "cell_type": "markdown",
   "id": "e397bdba-06c2-4f4f-b8c6-afe24a66d5af",
   "metadata": {},
   "source": [
    "## Vertex AI Pipelines の利用準備"
   ]
  },
  {
   "cell_type": "markdown",
   "id": "9d936cce-b4b3-4787-9652-ba7000072e0e",
   "metadata": {
    "tags": []
   },
   "source": [
    "### ライブラリのインポート"
   ]
  },
  {
   "cell_type": "code",
   "execution_count": null,
   "id": "c28d351a-18de-48fd-a49c-9d3b5430144f",
   "metadata": {
    "tags": []
   },
   "outputs": [],
   "source": [
    "import google.cloud.aiplatform as aiplatform\n",
    "import kfp\n",
    "from kfp import compiler, dsl\n",
    "from kfp.dsl import Artifact, Dataset, Input, Metrics, Model, Output, component\n",
    "from google_cloud_pipeline_components.v1.vertex_notification_email import VertexNotificationEmailOp\n",
    "from google_cloud_pipeline_components.v1.model import ModelUploadOp\n",
    "from google_cloud_pipeline_components.v1.batch_predict_job import ModelBatchPredictOp\n",
    "from google_cloud_pipeline_components.types import artifact_types\n",
    "from kfp.dsl import importer_node\n",
    "from typing import NamedTuple"
   ]
  },
  {
   "cell_type": "markdown",
   "id": "295f585c-697f-41f5-9fa8-9c979509fdb3",
   "metadata": {},
   "source": [
    "### Vertex AI の初期化"
   ]
  },
  {
   "cell_type": "code",
   "execution_count": null,
   "id": "553be454-af3c-4859-8537-3149dacfac0c",
   "metadata": {
    "tags": []
   },
   "outputs": [],
   "source": [
    "aiplatform.init(project=PROJECT_ID, staging_bucket=BUCKET_URI)"
   ]
  },
  {
   "cell_type": "markdown",
   "id": "07914ed8-6fba-486b-bf4e-cab872893360",
   "metadata": {
    "tags": []
   },
   "source": [
    "## パイプラインコンポーネントの定義"
   ]
  },
  {
   "cell_type": "markdown",
   "id": "66621be3-ff53-4c65-8b6d-188c3b383654",
   "metadata": {},
   "source": [
    "### BigQuery の View を作成するコンポーネント"
   ]
  },
  {
   "cell_type": "code",
   "execution_count": null,
   "id": "4a807b67-b7ad-44ca-b80e-060eb0988057",
   "metadata": {
    "tags": []
   },
   "outputs": [],
   "source": [
    "@component(\n",
    "    packages_to_install=[\"google-cloud-bigquery==3.29.0\"],\n",
    ")\n",
    "def create_view(\n",
    "    project_id: str,\n",
    "    dataset_id: str,\n",
    "    table_id: str,\n",
    "    view_name: str,\n",
    "):\n",
    "    from google.cloud import bigquery\n",
    "\n",
    "    client = bigquery.Client(project=project_id)\n",
    "\n",
    "    # TODO: 「*」指定は Bad Practice ですが今回は簡単のためこちらで実施。\n",
    "    create_or_replace_view = f\"\"\"\n",
    "        CREATE OR REPLACE VIEW\n",
    "        {dataset_id}.{view_name} AS\n",
    "        SELECT\n",
    "            *\n",
    "        FROM\n",
    "          `{project_id}.{dataset_id}.{table_id}`\n",
    "    \"\"\"\n",
    "\n",
    "    job_config = bigquery.QueryJobConfig()\n",
    "    query_job = client.query(query=create_or_replace_view, job_config=job_config)\n",
    "    query_job.result()"
   ]
  },
  {
   "cell_type": "markdown",
   "id": "2ddb80b7-ab0b-42f4-9c3f-740c6a1c06af",
   "metadata": {
    "tags": []
   },
   "source": [
    "### LightGBM 用にトレーニングデータを csv 出力するコンポーネント"
   ]
  },
  {
   "cell_type": "code",
   "execution_count": null,
   "id": "b191d78e-1656-459a-8e5f-5831dc12b5fe",
   "metadata": {
    "tags": []
   },
   "outputs": [],
   "source": [
    "@component(\n",
    "    packages_to_install=[\"google-cloud-bigquery[pandas]==3.29.0\"],\n",
    ")\n",
    "def export_dataset(\n",
    "    project_id: str,\n",
    "    dataset_id: str,\n",
    "    view_name: str,\n",
    "    dataset: Output[Dataset],\n",
    "):\n",
    "    from google.cloud import bigquery\n",
    "\n",
    "    client = bigquery.Client(project=project_id)\n",
    "\n",
    "    table_name = f\"{project_id}.{dataset_id}.{view_name}\"\n",
    "    query = f\"\"\"\n",
    "    SELECT\n",
    "      *\n",
    "    FROM\n",
    "      `{table_name}`\n",
    "    \"\"\"\n",
    "\n",
    "    job_config = bigquery.QueryJobConfig()\n",
    "    query_job = client.query(query=query, job_config=job_config)\n",
    "    df = query_job.result().to_dataframe()\n",
    "    df.to_csv(dataset.path, index=False)"
   ]
  },
  {
   "cell_type": "markdown",
   "id": "50bf37b4-83de-4761-9fbb-f48538d0c301",
   "metadata": {
    "tags": []
   },
   "source": [
    "### LightGBM のトレーニングを行うコンポーネント"
   ]
  },
  {
   "cell_type": "code",
   "execution_count": null,
   "id": "0bedc368-4c4a-424f-9693-8bfd6aed3a71",
   "metadata": {
    "tags": []
   },
   "outputs": [],
   "source": [
    "@component(\n",
    "    packages_to_install=[\n",
    "        \"lightgbm==4.5.0\",\n",
    "        \"pandas==2.2.3\",\n",
    "        \"scikit-learn==1.6.1\",\n",
    "    ],\n",
    ")\n",
    "def lightgbm_training(\n",
    "    dataset: Input[Dataset],\n",
    "    model: Output[Model],\n",
    "    metrics: Output[Metrics],\n",
    ") -> NamedTuple(\"Outputs\", [(\"auc\", float), (\"model_uri\", str)]) :\n",
    "    import os\n",
    "\n",
    "    import pandas as pd\n",
    "    import lightgbm as lgb\n",
    "    from sklearn.metrics import (accuracy_score, precision_recall_curve,\n",
    "                                 roc_auc_score)\n",
    "    from sklearn.model_selection import (RandomizedSearchCV, StratifiedKFold,\n",
    "                                         train_test_split)\n",
    "\n",
    "    # Load the training dataset\n",
    "    with open(dataset.path, \"r\") as train_data:\n",
    "        raw_data = pd.read_csv(train_data, header=None, skiprows=1)\n",
    "\n",
    "\n",
    "    # TODO: 今回のデータセットは train dataset を train/test に split しているが、test の dataset は初めから分かれているケースもありケースバイケース\n",
    "    y = raw_data[0]    \n",
    "    X = raw_data.drop(0, axis=1)\n",
    "    X_train, X_test, y_train, y_test = train_test_split(X, y)\n",
    "    lgb_train = lgb.Dataset(X_train, y_train)\n",
    "    lgb_eval = lgb.Dataset(X_test, y_test, reference=lgb_train)\n",
    "\n",
    "\n",
    "    # train\n",
    "    params = {\n",
    "        \"boosting_type\": \"gbdt\",\n",
    "        \"objective\": \"binary\",\n",
    "        'metric': 'auc',\n",
    "        \"num_leaves\": 31,\n",
    "        \"learning_rate\": 0.05,\n",
    "        \"feature_fraction\": 0.9,\n",
    "        \"bagging_fraction\": 0.8,\n",
    "        \"bagging_freq\": 5,\n",
    "        \"verbose\": 0,\n",
    "    }\n",
    "    gbm = lgb.train(\n",
    "        params, lgb_train, num_boost_round=20, valid_sets=lgb_eval, callbacks=[lgb.early_stopping(stopping_rounds=5)]\n",
    "    )\n",
    "    \n",
    "    \n",
    "\n",
    "    # evaluation\n",
    "    predictions = gbm.predict(X_test)\n",
    "    auc = roc_auc_score(y_test, predictions)\n",
    "    _ = precision_recall_curve(y_test, predictions)\n",
    "\n",
    "    metrics.log_metric(\"framework\", \"lightgbm\")\n",
    "    metrics.log_metric(\"dataset_size\", len(raw_data))\n",
    "    metrics.log_metric(\"AUC\", auc)\n",
    "    \n",
    "\n",
    "    # Export the model to a file\n",
    "    os.makedirs(model.path, exist_ok=True)\n",
    "    gbm.save_model(os.path.join(model.path, \"model.lgb\")) \n",
    "    \n",
    "    return (auc,model.uri)"
   ]
  },
  {
   "cell_type": "markdown",
   "id": "e7497332-6c5f-4fe1-9e0b-26d7c46e90ca",
   "metadata": {},
   "source": [
    "### エラーメッセージを出力するコンポーネント"
   ]
  },
  {
   "cell_type": "code",
   "execution_count": null,
   "id": "db20f462-fc7a-4428-b87e-fe2a707bd3d2",
   "metadata": {
    "tags": []
   },
   "outputs": [],
   "source": [
    "@component\n",
    "def print_message():\n",
    "    print(\"[W99999] We should not deploy the new model\")"
   ]
  },
  {
   "cell_type": "markdown",
   "id": "0ce7254f-01e9-4ff7-8d1f-79d705577753",
   "metadata": {
    "tags": []
   },
   "source": [
    "## モデルサービングのためのコンテナを作成する（=LightGBM を動かすコンテナの作成）"
   ]
  },
  {
   "cell_type": "markdown",
   "id": "c35c062f-f8f3-4a47-a1e6-017a45d95c72",
   "metadata": {},
   "source": [
    "### Artifact Registry にリポジトリを作成"
   ]
  },
  {
   "cell_type": "code",
   "execution_count": null,
   "id": "661b6153-c8a0-4038-b55a-dcedad3ca96a",
   "metadata": {
    "tags": []
   },
   "outputs": [],
   "source": [
    "!gcloud artifacts repositories create hellocustomprediction \\\n",
    " --repository-format=docker \\\n",
    " --location=us-central1\n",
    "!gcloud artifacts repositories list"
   ]
  },
  {
   "cell_type": "markdown",
   "id": "ea1cdc77-8513-4478-93bf-2a31d36c3d35",
   "metadata": {},
   "source": [
    "### コンテナを作成"
   ]
  },
  {
   "cell_type": "code",
   "execution_count": null,
   "id": "9be0c2d9-f766-420a-b378-ed3263a4f053",
   "metadata": {
    "tags": []
   },
   "outputs": [],
   "source": [
    "!docker build \\\n",
    "  --tag=us-central1-docker.pkg.dev/{PROJECT_ID}/hellocustomprediction/hellocustomprediction \\\n",
    "  -f app/Dockerfile \\\n",
    "  app"
   ]
  },
  {
   "cell_type": "markdown",
   "id": "10673d25-b428-4b65-aec0-f365ab898fe4",
   "metadata": {},
   "source": [
    "### Artifact Registry に登録（Push）"
   ]
  },
  {
   "cell_type": "code",
   "execution_count": null,
   "id": "08c52fd2-c186-4127-850b-fd894154b25d",
   "metadata": {
    "tags": []
   },
   "outputs": [],
   "source": [
    "!gcloud auth configure-docker --quiet us-central1-docker.pkg.dev\n",
    "!docker push us-central1-docker.pkg.dev/{PROJECT_ID}/hellocustomprediction/hellocustomprediction"
   ]
  },
  {
   "cell_type": "markdown",
   "id": "1d55d1c1-2e44-42b7-8cc2-7b7a73b3b519",
   "metadata": {
    "tags": []
   },
   "source": [
    "### ※実施不要※ Vertex AI にモデルを手動でデプロイして確認をおこないた場合に実施する。"
   ]
  },
  {
   "cell_type": "code",
   "execution_count": null,
   "id": "2bfa8415-d73f-4dfb-99fe-fccd9ba52833",
   "metadata": {
    "tags": []
   },
   "outputs": [],
   "source": [
    "!gcloud ai models upload \\\n",
    "  --region=us-central1 \\\n",
    "  --display-name=hellocustomprediction \\\n",
    "  --container-image-uri=\"us-central1-docker.pkg.dev/{PROJECT_ID}/hellocustomprediction/hellocustomprediction:latest\" \\\n",
    "  --container-health-route=\"/\" \\\n",
    "  --container-predict-route=\"/predict\" \\\n",
    "  --container-ports=\"8080\""
   ]
  },
  {
   "cell_type": "code",
   "execution_count": null,
   "id": "77984f9e-5387-4a23-b17e-80e2aff94586",
   "metadata": {
    "tags": []
   },
   "outputs": [],
   "source": [
    "!gcloud ai models list\\\n",
    "  --region=us-central1"
   ]
  },
  {
   "cell_type": "code",
   "execution_count": null,
   "id": "b0e9d37a-1921-4791-9ae5-2d1f1ce82786",
   "metadata": {
    "tags": []
   },
   "outputs": [],
   "source": [
    "!gcloud ai endpoints create \\\n",
    "  --region=us-central1 \\\n",
    "  --display-name=endpoint_hellocustomprediction\n"
   ]
  },
  {
   "cell_type": "code",
   "execution_count": null,
   "id": "926c87a9-b2ef-4d33-9f75-81431371b941",
   "metadata": {
    "tags": []
   },
   "outputs": [],
   "source": [
    "!gcloud ai endpoints list \\\n",
    "  --region=us-central1 \\\n",
    "  --filter=display_name=endpoint_hellocustomprediction"
   ]
  },
  {
   "cell_type": "code",
   "execution_count": null,
   "id": "11211aa5-97e7-4674-b306-d51d4a36940e",
   "metadata": {
    "tags": []
   },
   "outputs": [],
   "source": [
    "# 前のコマンドの結果（gcloud ai models list, gcloud ai endpoints list）を確認して値を設定してください。\n",
    "MODEL_ID=5812195485796007936\n",
    "ENDPOINT_ID=5512869937808408576\n",
    "!echo {MODEL_ID}\n",
    "!echo {ENDPOINT_ID}"
   ]
  },
  {
   "cell_type": "code",
   "execution_count": null,
   "id": "60fc8e88-9ff4-4ad5-b41e-a401ceceb583",
   "metadata": {
    "tags": []
   },
   "outputs": [],
   "source": [
    "!gcloud ai endpoints deploy-model {ENDPOINT_ID} \\\n",
    "  --region=us-central1 \\\n",
    "  --model={MODEL_ID} \\\n",
    "  --display-name=hellocustomprediction \\\n",
    "  --machine-type=n1-standard-2 \\\n",
    "  --min-replica-count=1 \\\n",
    "  --max-replica-count=1 \\\n",
    "  --traffic-split=0=100 \\\n",
    "  --service-account={SERVICE_ACCOUNT}"
   ]
  },
  {
   "cell_type": "code",
   "execution_count": null,
   "id": "a64d15a2-d1fb-49df-a6fd-ad882121c5a3",
   "metadata": {
    "tags": []
   },
   "outputs": [],
   "source": [
    "!gcloud ai endpoints raw-predict {ENDPOINT_ID} \\\n",
    "--project={PROJECT_ID} --region=us-central1 \\\n",
    "--http-headers=Content-Type=application/json --request=@request.json"
   ]
  },
  {
   "cell_type": "code",
   "execution_count": null,
   "id": "b0781b65-d523-43b0-95c7-e386ac182dbb",
   "metadata": {
    "tags": []
   },
   "outputs": [],
   "source": []
  },
  {
   "cell_type": "markdown",
   "id": "1fc4f696-d691-4ac7-a3cb-760cf08071e1",
   "metadata": {},
   "source": [
    "## パイプラインの定義（定義したコンポーネントを利用）"
   ]
  },
  {
   "cell_type": "code",
   "execution_count": null,
   "id": "97576b0c-2b5d-45f6-8f88-6005ad9cf316",
   "metadata": {
    "tags": []
   },
   "outputs": [],
   "source": [
    "CONTAINER_IMAGE_URL"
   ]
  },
  {
   "cell_type": "code",
   "execution_count": null,
   "id": "fde9ea86-7c2b-463d-aec6-b74ec27362cc",
   "metadata": {
    "tags": []
   },
   "outputs": [],
   "source": [
    "@dsl.pipeline(\n",
    "    name=\"vai-pipelines-handson-lightgbm\",\n",
    ")\n",
    "def pipeline():\n",
    "    create_input_view_task = create_view(\n",
    "        project_id=PROJECT_ID,\n",
    "        dataset_id=DATASET_ID,\n",
    "        table_id=TABLE_ID,\n",
    "        view_name=VIEW_NAME,\n",
    "    )\n",
    "\n",
    "    export_dataset_task = (\n",
    "        export_dataset(\n",
    "            project_id=PROJECT_ID,\n",
    "            dataset_id=DATASET_ID,\n",
    "            view_name=VIEW_NAME,\n",
    "        )\n",
    "        .after(create_input_view_task)\n",
    "        .set_caching_options(False)\n",
    "    )\n",
    "\n",
    "    training_task = lightgbm_training(\n",
    "        dataset=export_dataset_task.outputs[\"dataset\"],\n",
    "    )\n",
    "    \n",
    "\n",
    "    with dsl.If(training_task.outputs[\"auc\"] > 0.7, name=\"Condition: AUC is OK\"):\n",
    "        import_unmanaged_model_task = importer_node.importer(\n",
    "            # artifact_uri=\"gs://your-bucket-name-yuyaono-dev1-unique/vai_pipelines_handson_pipeline_lightGBM/635273855015/vai-pipelines-handson-lightgbm-20240423023838/lightgbm-training_-2268097256068481024/model\",\n",
    "            artifact_uri=training_task.outputs[\"model_uri\"],\n",
    "            artifact_class=artifact_types.UnmanagedContainerModel,\n",
    "            metadata={\n",
    "                \"artifactUri\": training_task.outputs[\"model_uri\"],\n",
    "                \"containerSpec\": {\n",
    "                    \"imageUri\": CONTAINER_IMAGE_URL,\n",
    "                    \"healthRoute\": \"/\",\n",
    "                    \"predictRoute\": \"/predict\",\n",
    "                    \"env\": [\n",
    "                        {\n",
    "                            \"name\": \"SRC_MODEL_URI\",\n",
    "                            \"value\": training_task.outputs[\"model_uri\"]\n",
    "                        }\n",
    "                    ]\n",
    "                },\n",
    "            },\n",
    "        )\n",
    "        \n",
    "\n",
    "        model_task = ModelUploadOp(\n",
    "            project=PROJECT_ID,\n",
    "            display_name=\"hellocustomprediction_model_upload_op\",\n",
    "            unmanaged_container_model=import_unmanaged_model_task.outputs[\"artifact\"],\n",
    "        )\n",
    "        \n",
    "        batch_prediction_task = ModelBatchPredictOp(\n",
    "            project=PROJECT_ID,\n",
    "            model=model_task.outputs[\"model\"],\n",
    "            job_display_name=\"batch_pred_op\",\n",
    "            instances_format=\"bigquery\",\n",
    "            bigquery_source_input_uri=f\"bq://{PROJECT_ID}.{DATASET_ID}.lightgbm_train_data_raw_batch_src\",\n",
    "            predictions_format=\"bigquery\",\n",
    "            bigquery_destination_output_uri=f\"bq://{PROJECT_ID}.{DATASET_ID}.lightgbm_train_data_raw_batch_dst\",\n",
    "            machine_type=\"n1-standard-4\",\n",
    "            starting_replica_count=1,\n",
    "            max_replica_count=1,\n",
    "            service_account=SERVICE_ACCOUNT\n",
    "        )\n",
    "        \n",
    "    with dsl.Else():\n",
    "        print_message()\n",
    "\n",
    "        "
   ]
  },
  {
   "cell_type": "markdown",
   "id": "6222bac1-1575-4d5d-960f-0e3fcf7406ff",
   "metadata": {
    "tags": []
   },
   "source": [
    "## パイプラインのコンパイル（YAML 生成）"
   ]
  },
  {
   "cell_type": "code",
   "execution_count": null,
   "id": "a5687684-70ae-4269-8512-9c75b2815e0d",
   "metadata": {
    "tags": []
   },
   "outputs": [],
   "source": [
    "compiler.Compiler().compile(pipeline_func=pipeline, package_path=\"pipeline-lightgbm.yaml\")"
   ]
  },
  {
   "cell_type": "markdown",
   "id": "fb349bdc-06b9-4d0e-a178-cecbf74f6b30",
   "metadata": {},
   "source": [
    "## パイプラインの実行"
   ]
  },
  {
   "cell_type": "code",
   "execution_count": null,
   "id": "d6ecdf2c-268f-4281-8aac-d7357579bfc1",
   "metadata": {
    "tags": []
   },
   "outputs": [],
   "source": [
    "job = aiplatform.PipelineJob(\n",
    "    display_name=\"vai-pipelines-handson-lightgbm\",\n",
    "    template_path=\"pipeline-lightgbm.yaml\",\n",
    "    pipeline_root=PIPELINE_ROOT,\n",
    ")\n",
    "\n",
    "job.run()"
   ]
  },
  {
   "cell_type": "markdown",
   "id": "a6220a23-e846-43bf-82f4-567f30f4daed",
   "metadata": {},
   "source": [
    "## その他の便利手順（カンペ）"
   ]
  },
  {
   "cell_type": "markdown",
   "id": "dc6f8573-5c6e-4f79-aae6-3a7b64f7901e",
   "metadata": {},
   "source": [
    "- 推論のバッチ実行で使う、SRC/DST の Table を BigQuery 上につくる\n",
    "\n",
    "```\n",
    "ALTER TABLE 【PROJECT_ID】.lightgbm.lightgbm_train_data_raw_batch_src\n",
    "DROP COLUMN int64_field_0;\n",
    "\n",
    "\n",
    "DELETE FROM 【PROJECT_ID】.lightgbm.lightgbm_train_data_raw_batch_dst WHERE 1=1;\n",
    "\n",
    "\n",
    "ALTER TABLE 【PROJECT_ID】.lightgbm.lightgbm_train_data_raw_batch_dst\n",
    "DROP COLUMN prediction;\n",
    "\n",
    "\n",
    "ALTER TABLE 【PROJECT_ID】.lightgbm.lightgbm_train_data_raw_batch_dst\n",
    "ADD COLUMN prediction STRING;\n",
    "\n",
    "ALTER TABLE 【PROJECT_ID】.lightgbm.lightgbm_train_data_raw_batch_dst\n",
    "ADD COLUMN prediction_error STRING;\n",
    "\n",
    "\n",
    "select * from 【PROJECT_ID】.lightgbm.lightgbm_train_data_raw_batch_dst\n",
    "```"
   ]
  },
  {
   "cell_type": "code",
   "execution_count": null,
   "id": "808c0a86-cd52-49b5-8195-eff2c83458b4",
   "metadata": {},
   "outputs": [],
   "source": []
  }
 ],
 "metadata": {
  "environment": {
   "kernel": "conda-base-py",
   "name": "workbench-notebooks.m127",
   "type": "gcloud",
   "uri": "us-docker.pkg.dev/deeplearning-platform-release/gcr.io/workbench-notebooks:m127"
  },
  "kernelspec": {
   "display_name": "Python 3 (ipykernel) (Local)",
   "language": "python",
   "name": "conda-base-py"
  },
  "language_info": {
   "codemirror_mode": {
    "name": "ipython",
    "version": 3
   },
   "file_extension": ".py",
   "mimetype": "text/x-python",
   "name": "python",
   "nbconvert_exporter": "python",
   "pygments_lexer": "ipython3",
   "version": "3.10.16"
  }
 },
 "nbformat": 4,
 "nbformat_minor": 5
}
